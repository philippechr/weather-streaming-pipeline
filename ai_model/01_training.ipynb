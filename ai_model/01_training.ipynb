{
 "cells": [
  {
   "cell_type": "markdown",
   "id": "0cafb719",
   "metadata": {},
   "source": [
    "Isolation Forest Training for Weather Data Anomaly Detection"
   ]
  },
  {
   "cell_type": "code",
   "execution_count": 1,
   "id": "4b9d83e4",
   "metadata": {},
   "outputs": [
    {
     "name": "stdout",
     "output_type": "stream",
     "text": [
      "✅ Modell und Scaler gespeichert in: model\n"
     ]
    }
   ],
   "source": [
    "# 1. Imports & Konfiguration\n",
    "import pandas as pd\n",
    "import joblib\n",
    "from sklearn.ensemble import IsolationForest\n",
    "from sklearn.preprocessing import StandardScaler\n",
    "import os\n",
    "\n",
    "# 🔧 Pfade definieren\n",
    "DATA_DIR = \"data\"\n",
    "MODEL_DIR = \"model\"\n",
    "\n",
    "\n",
    "# 2. Daten einlesen & aufbereiten\n",
    "def load_data(filenames):\n",
    "    filepaths = [os.path.join(DATA_DIR, f) for f in filenames]\n",
    "    dfs = [pd.read_excel(fp) for fp in filepaths]\n",
    "    df = pd.concat(dfs, ignore_index=True)\n",
    "\n",
    "    df.columns = [\n",
    "        \"source\",\n",
    "        \"date\",\n",
    "        \"time\",\n",
    "        \"city\",\n",
    "        \"lat\",\n",
    "        \"lon\",\n",
    "        \"temperature\",\n",
    "        \"wind_speed\",\n",
    "        \"pressure\",\n",
    "        \"humidity\",\n",
    "    ]\n",
    "\n",
    "    df[\"humidity\"] = (\n",
    "        df[\"humidity\"].astype(str).str.replace(\"%\", \"\").str.strip().astype(float)\n",
    "    )\n",
    "    df[\"pressure\"] = (\n",
    "        df[\"pressure\"]\n",
    "        .astype(str)\n",
    "        .str.replace(\"’\", \"\")\n",
    "        .str.replace(\"'\", \"\")\n",
    "        .str.strip()\n",
    "        .astype(float)\n",
    "    )\n",
    "\n",
    "    df.dropna(\n",
    "        subset=[\"temperature\", \"wind_speed\", \"pressure\", \"humidity\"], inplace=True\n",
    "    )\n",
    "    return df\n",
    "\n",
    "\n",
    "# 3. Feature-Auswahl\n",
    "def prepare_features(df):\n",
    "    features = [\"temperature\", \"wind_speed\", \"pressure\", \"humidity\", \"lat\", \"lon\"]\n",
    "    return df[features]\n",
    "\n",
    "\n",
    "# 4. Modelltraining\n",
    "def train_model(X):\n",
    "    scaler = StandardScaler()\n",
    "    X_scaled = scaler.fit_transform(X)\n",
    "    model = IsolationForest(n_estimators=100, contamination=0.02, random_state=42)\n",
    "    model.fit(X_scaled)\n",
    "    return model, scaler\n",
    "\n",
    "\n",
    "# 5. Speichern im Ordner 'model/'\n",
    "def save_model(model, scaler, output_dir=MODEL_DIR):\n",
    "    os.makedirs(output_dir, exist_ok=True)\n",
    "    joblib.dump(model, os.path.join(output_dir, \"isolation_forest_model.pkl\"))\n",
    "    joblib.dump(scaler, os.path.join(output_dir, \"scaler.pkl\"))\n",
    "    print(\"✅ Modell und Scaler gespeichert in:\", output_dir)\n",
    "\n",
    "\n",
    "# 6. Ausführen\n",
    "if __name__ == \"__main__\":\n",
    "    files = [\"2022_05_01.xlsx\", \"2022_05_02.xlsx\", \"2022_05_03.xlsx\"]\n",
    "    df = load_data(files)\n",
    "    X = prepare_features(df)\n",
    "    model, scaler = train_model(X)\n",
    "    save_model(model, scaler)"
   ]
  },
  {
   "cell_type": "code",
   "execution_count": null,
   "id": "2b9e25bb",
   "metadata": {},
   "outputs": [],
   "source": []
  }
 ],
 "metadata": {
  "kernelspec": {
   "display_name": "base311",
   "language": "python",
   "name": "python3"
  },
  "language_info": {
   "codemirror_mode": {
    "name": "ipython",
    "version": 3
   },
   "file_extension": ".py",
   "mimetype": "text/x-python",
   "name": "python",
   "nbconvert_exporter": "python",
   "pygments_lexer": "ipython3",
   "version": "3.11.8"
  }
 },
 "nbformat": 4,
 "nbformat_minor": 5
}
